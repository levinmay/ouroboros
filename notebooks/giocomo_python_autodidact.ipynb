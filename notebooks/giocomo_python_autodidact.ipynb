{
 "cells": [
  {
   "cell_type": "markdown",
   "id": "b3113153",
   "metadata": {},
   "source": [
    "# IPython Extensions"
   ]
  },
  {
   "cell_type": "code",
   "execution_count": 1,
   "id": "da635110",
   "metadata": {
    "tags": []
   },
   "outputs": [],
   "source": [
    "# Don't forget to autoreload if you are using local src code"
   ]
  },
  {
   "cell_type": "markdown",
   "id": "de2849d8",
   "metadata": {},
   "source": [
    "# Importing\n",
    "\n",
    "If you have a lot of imports, splitting them up in the following way\n",
    "makes it easy for someone else to skim and see what is used."
   ]
  },
  {
   "cell_type": "code",
   "execution_count": 2,
   "id": "dc1c8154",
   "metadata": {},
   "outputs": [],
   "source": [
    "# 'standard' libraries first\n",
    "import os, sys\n",
    "\n",
    "# then libraries managed by others\n",
    "import numpy as np\n",
    "from matplotlib import pyplot as plt\n",
    "\n",
    "# then your custom libraries"
   ]
  },
  {
   "cell_type": "code",
   "execution_count": 3,
   "id": "ec419c47",
   "metadata": {},
   "outputs": [
    {
     "name": "stdout",
     "output_type": "stream",
     "text": [
      "/Users/tgfisher/we_sick/bin/python\n"
     ]
    }
   ],
   "source": [
    "print(sys.executable) "
   ]
  },
  {
   "cell_type": "markdown",
   "id": "7a70dd0d",
   "metadata": {},
   "source": [
    "# Diving Right In\n",
    "---\n",
    "---\n",
    "\n",
    "In this section you will gain some experience with the concepts covered in the \n",
    "`giocomo_python_tutorial.ipynb` by playing around with a data matrix.\n",
    "\n",
    "The data matrix is actually a low-res image. An \n",
    "image is a nice training tool because changes should be obvious and simple\n",
    "to recognize quickly.\n",
    "\n",
    "### Diving Right In Homework List\n",
    "\n",
    "- [ ] Numpy Basics: Load a .npy file\n",
    "- [ ] Plotting Basics: Plot the Array as an Image\n",
    "- [ ] Indexing Basics: Select Array By Index \n",
    "- [ ] Numpy Basics: Understanding `dtype`\n",
    "- [ ] Numpy Basics: Manipulate Array By Index (Find Values in an Array)\n"
   ]
  },
  {
   "cell_type": "markdown",
   "id": "626d27a9",
   "metadata": {},
   "source": [
    "### HW: Load The `bw_arr_pm.npy` From the `raw_data` Directory\n",
    "---\n",
    "In order to complete the rest of the homework you will need the data from `bw_arr_pm.npy`. It\n",
    "is stored in `.npy` format in the `ouroboros/raw_data/` directory (folder)."
   ]
  },
  {
   "cell_type": "code",
   "execution_count": 4,
   "id": "fa16bb45",
   "metadata": {},
   "outputs": [],
   "source": [
    "#HOMEWORK CAN GO IN AS MANY BLOCKS AS YOU LIKE"
   ]
  },
  {
   "cell_type": "markdown",
   "id": "81f34863",
   "metadata": {},
   "source": [
    "### HW: Plot the Array as An Image\n",
    "---\n",
    "Have fun with this exercise. It is intended to encourage you to explore basic `matplotlib.pyplot`.\n",
    "\n",
    "Your plot should contain:\n",
    "1. the `bw_arr_pw.npy` plotted\n",
    "1. a title\n",
    "1. x- and y-axis labels\n",
    "1. a colorbar (if this were neural data we'd need to know how to interpret pixel color) \n",
    "\n",
    "**BONUS:** After successfully completing the tasks above you will notice that\n",
    "axes have the (0,0) pixel in the top right. This is handy for matrices, but \n",
    "what if you'd like to plot binned spike counts from trial zero to trial n, bottom to top?\n",
    "**Add subplot where the image is plotted with (0,0) at the bottom.**"
   ]
  },
  {
   "cell_type": "code",
   "execution_count": 5,
   "id": "c30ae834",
   "metadata": {},
   "outputs": [],
   "source": [
    "#HOMEWORK CAN GO IN AS MANY BLOCKS AS YOU LIKE"
   ]
  },
  {
   "cell_type": "markdown",
   "id": "935a3f9d",
   "metadata": {},
   "source": [
    "### HW: Select Array By Index\n",
    "---\n",
    "In addition to manipulating an array by index, we will play around with the the \"dtype\" of an array and discuss\n",
    "the significance of a \"dtype\".\n",
    "\n",
    "1. Imagine a 'cropped' view of the image that you like better. Use 'slicing' to realize \n",
    "this imagined crop in a plot below.\n",
    "1. Use `plt.subplots(ncols=2)` to plot the old and new\n",
    "images side by side with their originals.\n"
   ]
  },
  {
   "cell_type": "code",
   "execution_count": 6,
   "id": "72914c3b-7d34-414a-8b91-0a3dba1a409c",
   "metadata": {},
   "outputs": [],
   "source": [
    "#HOMEWORK CAN GO IN AS MANY BLOCKS AS YOU LIKE"
   ]
  },
  {
   "cell_type": "markdown",
   "id": "6cf2ff7a-8015-438d-ac8f-13d5024225ba",
   "metadata": {},
   "source": [
    "### HW: Understanding `dtype`\n",
    "---\n",
    "The datatype is the \"kind\" of thing that the computer must store. Floats, strings, integers, positive real numbers\n",
    "are all examples of \"types\" of data. The numpy datatype gets more specific than that, it also asks\n",
    "how you would like to store a thing: 8 bit positive integer(?) or 64 bit positive integer(?). We care about this\n",
    "because just like each \"type\" defines what kind of thing can be stored the \"dtype\" gets more specific,\n",
    "it also defines \"how much\" you can store.\n",
    "\n",
    "**A concrete explanation of \"uint8\"** -- 'u' for unsigned (can't sign -/+) and 'int8' for storing \n",
    "    an integer with 8 bits (1 byte, _similar to how 12 is a dozen_). We know a bit can take 2 states \n",
    "    (0 or 1) and we have 8. With a little math we know we can make 256 unique combinations, 2^8=256,\n",
    "    to store 256 things with 1 byte. Since we want to be able to store zero this means uint8\n",
    "    can go from 0-255, wow!\n",
    "\n",
    "1. Make a histogram of pixel brightnesses that shows both the distribution of brightnesses for your\n",
    "crop and the original image.\n",
    "1. Adjust pixel brightnesses of the original image.\n",
    "    1. Note that the image histograms don't spread out completely between 0 and 255. Look at where \n",
    "    the tails of the histogram basically go to zero, this should leave you with \n",
    "    a pseudo minimum greater than zero and pseudo maximum less than 255.\n",
    "    1. Set values below your pseudo min to the pseudo min value (e.g. for a pseudo min of 6, all pixels \n",
    "    5 and below should be set to 6).\n",
    "    1. Set values higher than your pseudo max to the pseudo max value (e.g. for a pseudo max of 250, all pixels\n",
    "    251 and above should be set to 250).\n",
    "    1. Normalize the pixels so that your pseudo max pixels are 255 and your pseudo min pixels are 0.\n",
    "1. Make a new variable saving save the exposure adjusted array as \"uint8\" `uint_version = <ndarray>.astype(\"uint8\")` \\\n",
    "\n",
    "`uint_version.nbytes` should be quite a bit smaller than `norm_version.nbytes`. This means it \n",
    "takes up less space on your computer."
   ]
  },
  {
   "cell_type": "code",
   "execution_count": 7,
   "id": "38aff2c0",
   "metadata": {},
   "outputs": [],
   "source": [
    "#HOMEWORK CAN GO IN AS MANY BLOCKS AS YOU LIKE"
   ]
  },
  {
   "cell_type": "markdown",
   "id": "9d92b71e",
   "metadata": {},
   "source": [
    "### HW: Manipulate the Array By Index (Find Values in an Array)\n",
    "---\n",
    "1. Find the brightest pixel\n",
    "1. Make a new image, using index assignment put a _black_ horizontal \n",
    "and vertical line (4px wide) over the brightest pixel.\n",
    "1. Plot the array with the cross-hairs from (2) on it. \n",
    "1. Find the darkest pixel\n",
    "1. Make another new image off the original, using index assignment put _white_ cross-hairs \n",
    "(4px wide) over the darkest pixel. \n",
    "1. Plot the array with the cross-hairs from (5) on it. _Tired of writing out the plotting \n",
    "details? Might be time to make a plotting function._\n",
    "1. Place a 30px wide \"frame\" around the photograph by changing existing pixel values.\n",
    "1. Once you've plotted the cross-hairs you will notice that the brightest\n",
    "pixel isn't where you might expect (at the lighthouse). Describe in pseudo-code\n",
    "an algorithm that you could use to reliably find the lighthouse lamp. Feel free\n",
    "to \"use\" any packages that you would try if you were solving the problem. _HINT: Use\n",
    "a markdown cell for this part_\n",
    "\n",
    "**Bonus** Implement (8), find the lighthouse lamp and plot another set of _black_ cross-hairs."
   ]
  },
  {
   "cell_type": "code",
   "execution_count": 8,
   "id": "0eeb429d",
   "metadata": {},
   "outputs": [],
   "source": [
    "#HOMEWORK CAN GO IN AS MANY BLOCKS AS YOU LIKE"
   ]
  },
  {
   "cell_type": "markdown",
   "id": "716137c8-a0db-4ecf-be1b-3990e5eb2756",
   "metadata": {},
   "source": [
    "#### This is a markdown cell"
   ]
  },
  {
   "cell_type": "markdown",
   "id": "fde5ad42",
   "metadata": {
    "tags": []
   },
   "source": [
    "# Variables and Shared Memory\n",
    "---\n",
    "---\n",
    "\n",
    "In this section we begin to explore how python stores variables.\n",
    "\n",
    "- Are identical things stored in the same place, or does python store multiple copies for\n",
    "the same thing?\n",
    "- Where is a variable stored?\n",
    "- Importantly, in which situations does python's memory usage have consequences on your code?\n",
    "\n",
    "_If python is your first--or only--programming language it is important to note \n",
    "that the 'rules' we discuss in this section represent design decisions. Handling \n",
    "variables and how they are stored is done differently in other \n",
    "languages._\n",
    "\n",
    "### Variables and Shared Memory Homework List\n",
    "\n",
    "- [ ] Make a custom deep copy function."
   ]
  },
  {
   "cell_type": "code",
   "execution_count": 9,
   "id": "fe0a7a1a",
   "metadata": {},
   "outputs": [],
   "source": [
    "\"\"\"\n",
    "This block may seem strange, we are just defining a variables and values that are \n",
    "easy for us to remember. This section is all about how variables can change when \n",
    "you aren't expecting it, colors should be easy to remember.\n",
    "\"\"\"\n",
    "red = \"red\"\n",
    "my_colors = [\"purple\", red]\n",
    "my_list = [number for number in range(10)] # (you've just learned a new thing) this is \"list comprehension\"\n",
    "my_list[0] = my_colors"
   ]
  },
  {
   "cell_type": "code",
   "execution_count": 10,
   "id": "d95ef50f",
   "metadata": {},
   "outputs": [
    {
     "name": "stdout",
     "output_type": "stream",
     "text": [
      "red: \t\t red\n",
      "my_colors:\t ['purple', 'red']\n",
      "my_list:\t [['purple', 'red'], 1, 2, 3, 4, 5, 6, 7, 8, 9]\n"
     ]
    }
   ],
   "source": [
    "print(\"red: \\t\\t\", red)\n",
    "print(\"my_colors:\\t\", my_colors)\n",
    "print(\"my_list:\\t\", my_list)"
   ]
  },
  {
   "cell_type": "markdown",
   "id": "65b0a014",
   "metadata": {},
   "source": [
    "#### Making a new variable from an old one.\n",
    "\n",
    "What happens if we make a new variable from a new one?\n",
    "\n",
    "_Spoiler: It depends on what kind of variable._"
   ]
  },
  {
   "cell_type": "code",
   "execution_count": 11,
   "id": "9c53fa08",
   "metadata": {},
   "outputs": [],
   "source": [
    "a_color = red\n",
    "new_list = my_list"
   ]
  },
  {
   "cell_type": "code",
   "execution_count": 12,
   "id": "536bc7c8",
   "metadata": {},
   "outputs": [
    {
     "name": "stdout",
     "output_type": "stream",
     "text": [
      "red:  red \n",
      "\t^- the string stored in `red` hasn't changed,\n",
      "\t  this makes might make some kind of sense.\n"
     ]
    }
   ],
   "source": [
    "a_color = \"dark red\"\n",
    "print(\"red: \", red, \"\\n\\t^- the string stored in `red` hasn't changed,\")\n",
    "print(\"\\t  this makes might make some kind of sense.\")"
   ]
  },
  {
   "cell_type": "code",
   "execution_count": 13,
   "id": "08bb7f1a",
   "metadata": {},
   "outputs": [
    {
     "name": "stdout",
     "output_type": "stream",
     "text": [
      "new list:  [['purple', 'red'], 'change', 2, 3, 4, 5, 6, 7, 8, 9]\n",
      "my list:  [['purple', 'red'], 'change', 2, 3, 4, 5, 6, 7, 8, 9] \n",
      "\t\t\t\t   ^- `my_list` changes after changing new_list,\n",
      "\t\t\t\t\t unlike the `string` example above, beware...\n"
     ]
    }
   ],
   "source": [
    "new_list[1] = \"change\"\n",
    "print(\"new list: \", new_list)\n",
    "print(\"my list: \", my_list, \"\\n\\t\\t\\t\\t   ^- `my_list` changes after changing new_list,\")\n",
    "print(\"\\t\\t\\t\\t\\t unlike the `string` example above, beware...\")"
   ]
  },
  {
   "cell_type": "markdown",
   "id": "57a9b834",
   "metadata": {},
   "source": [
    "#### (solution) `.copy` a list to really make a copy\n",
    "\n",
    "What we just observed can cause pretty nasty \"bugs\"\n",
    "in your code. Lets review:\n",
    "\n",
    "**Variables pointing to the \"same\" immutable object won't impact one another.**\n",
    "\n",
    "Luckily, many `types` in python are \"immutable\", they can't be changed. Practically\n",
    "this means that if you have two variables pointing to the same immutable `a = (11,12); b = a`\n",
    "changing `a` will just overwrite it, `a = (15,16)`, `a` is now `(15,16)`, but `b` is still\n",
    "`(11,12)`. Variables storing integers, floating-point numbers, \n",
    "booleans, strings, and tuples will all have the same \"reassignment\"\n",
    "behavior. \n",
    "\n",
    "**Variables pointing to the \"same\" mutable object will impact one another**\n",
    "\n",
    "As we saw above, `new_variable` and `my_variable` hold the same \"mutable\" (a `list`) \n",
    "located at the same location in memory. They are just two names for the \n",
    "same \"address\".\n",
    "\n",
    "--- \n",
    "\n",
    "`<mutable>.copy()` method makes a copy of something to a new location in memory,\n",
    "a new memory address."
   ]
  },
  {
   "cell_type": "code",
   "execution_count": 14,
   "id": "32713811",
   "metadata": {},
   "outputs": [
    {
     "name": "stdout",
     "output_type": "stream",
     "text": [
      "make a copy\n"
     ]
    }
   ],
   "source": [
    "# this might look a little complicated, it is written\n",
    "# this way to prevent any funny business caused by\n",
    "# potentially asynchronous cell runs in jupyter.\n",
    "living_variables = %who_ls\n",
    "if not any(var == \"my_list_copy\" for var in living_variables):\n",
    "    print(\"make a copy\")\n",
    "    my_list_copy = my_list.copy() # <-- in this block, this line is what you should understand."
   ]
  },
  {
   "cell_type": "code",
   "execution_count": 42,
   "id": "0556b41e",
   "metadata": {},
   "outputs": [
    {
     "name": "stdout",
     "output_type": "stream",
     "text": [
      "Another change to `new_list` changes `my_list`, but doesn't alter `my_list_copy`!\n",
      "\n",
      "  new_list:\n",
      "\t [['purple', 'red'], 'change', 2, 3, 'another change', 5, 6, 7, 8, 9] \n",
      "\t\tmemory location:  140669009255552\n",
      "  my_list:\n",
      "\t [['purple', 'red'], 'change', 2, 3, 'another change', 5, 6, 7, 8, 9] \n",
      "\t\tmemory location:  140669009255552\n",
      "  my_list_copy:\n",
      "\t [['purple', 'red'], 'change', 2, 3, 4, 5, 6, 7, 8, 9] \n",
      "\t\tmemory location:  140669009256128\n"
     ]
    }
   ],
   "source": [
    "new_list[4] = \"another change\"\n",
    "print(\"Another change to `new_list` changes `my_list`, but doesn't alter `my_list_copy`!\\n\")\n",
    "print(\"  new_list:\\n\\t\", new_list, \"\\n\\t\\tmemory location: \", id(new_list))\n",
    "a_thing = \"somthing\"\n",
    "print(\"  my_list:\\n\\t\", my_list, \"\\n\\t\\tmemory location: \", id(my_list))\n",
    "print(\"  my_list_copy:\\n\\t\", my_list_copy, \"\\n\\t\\tmemory location: \", id(my_list_copy))"
   ]
  },
  {
   "cell_type": "markdown",
   "id": "58f7b007",
   "metadata": {},
   "source": [
    "#### `.copy`s aren't always deep enough.\n",
    "\n",
    "What we have above looks like it works!\n",
    "\n",
    "We have verified that `my_list` and `my_list_copy` are stored in different locations.\n",
    "We have even made a 'change' to `new_list` (`my_list` changed again, too) and saw that\n",
    "this didn't alter `my_list_copy`. \n",
    "\n",
    "The astute reader might wonder about the \"inner list\". The copy we made doesn't also `.copy()` the list\n",
    "at index 0, `['purple', 'red']`. This remains a pointer to a place in memory, meaning if the item at that\n",
    "memory location is changed the copied list can have a changed component. "
   ]
  },
  {
   "cell_type": "code",
   "execution_count": null,
   "id": "d4d53654",
   "metadata": {},
   "outputs": [],
   "source": [
    "def all_integers_match(*integers):\n",
    "    if not any((item - integers[0] for item in integers[1:])):\n",
    "        return \"All Matching\"\n",
    "    else:\n",
    "        return \"At Least One Doesn't Match\"\n",
    "\n",
    "def memory_locations_of_list_elements(*args):\n",
    "    for stuff in zip(*args):\n",
    "        ids = tuple(id(value) for value in stuff)\n",
    "        print(*ids, \"<--\", all_integers_match(*ids))"
   ]
  },
  {
   "cell_type": "code",
   "execution_count": null,
   "id": "3c4e8495",
   "metadata": {},
   "outputs": [],
   "source": [
    "memory_locations_of_list_elements(my_list, new_list, my_list_copy)"
   ]
  },
  {
   "cell_type": "code",
   "execution_count": null,
   "id": "0aa9c81c",
   "metadata": {},
   "outputs": [],
   "source": [
    "my_list_copy[0]+=[\"O_o 'Oh, no...'\"]\n",
    "print(\"Changing the list within my_list_copy (shared with my_list) alters the list wherever it shows up:\")\n",
    "print(\"  zeroth element of my_list:\\t\\t\", my_list[0])\n",
    "print(\"  zeroth element of my_list_copy:\\t\", my_list_copy[0])"
   ]
  },
  {
   "cell_type": "markdown",
   "id": "ed4b05d9",
   "metadata": {},
   "source": [
    "### HW: Make a custom deep copy function\n",
    "---\n",
    "\n",
    "Make a function called `deep_copy` that is capable of copying a list that has other\n",
    "lists in it.\n",
    "\n",
    "1. For full credit this function should deep copy down to the first level.\n",
    "**Bonus** credit write a function that is depth agnostic."
   ]
  },
  {
   "cell_type": "code",
   "execution_count": null,
   "id": "5e721f68",
   "metadata": {},
   "outputs": [],
   "source": [
    "def deep_copy(thing):\n",
    "    pass"
   ]
  },
  {
   "cell_type": "markdown",
   "id": "d6662169",
   "metadata": {},
   "source": [
    "# Variable Scope\n",
    "---\n",
    "---\n",
    "\n",
    "In this section we will explore how to know which variables are in currently in use. Often\n",
    "variables are penned into a particular context. For example, unless a variable \n",
    "is an output, a variable created inside a function typically doesn't exist\n",
    "outside the function.\n",
    "\n",
    "### Variables and Shared Memory Homework List\n",
    "\n",
    "- [ ] Functions for exposing the current workspace.\n",
    "- [ ] Fix a variable scope related bug.\n",
    "\n",
    "#### Notebook Workspace (and getting '`help()`)\n",
    "\n",
    "For those coming from Matlab or a python IDE, you may\n",
    "be familiar with tools that allow you inspect variables in your current workspace. \n",
    "IPython has a nice set of magics (`%who`, `%whos`, `%who_ls`) that list variables\n",
    "out for you.\n",
    "\n",
    "In this section you will write your own workspace tools and learn a bit about how \n",
    "the python variable space is organized using your choice of `dir`, `global`,\n",
    "`local`, and `vars`. \n",
    "\n",
    "---\n",
    "\n",
    "`help()` -- is a fantastic tool to give you information on a python object."
   ]
  },
  {
   "cell_type": "code",
   "execution_count": 29,
   "id": "592261dd",
   "metadata": {},
   "outputs": [
    {
     "name": "stdout",
     "output_type": "stream",
     "text": [
      "who output\n",
      "==========\n",
      "a_color\t item\t living_variables\t my_colors\t my_list\t my_list_copy\t new_list\t np\t os\t \n",
      "peth\t plt\t red\t sys\t underline\t whos_list\t \n"
     ]
    }
   ],
   "source": [
    "\"\"\"\n",
    "In the next few cells we are going to show you the output of `%who`, `%whos`, and\n",
    "`%who_ls`. You will notice that all the variables you've created in the sections\n",
    "above are listed out. This means--what you already know--that any variable\n",
    "is available in any cell.\n",
    "\"\"\"\n",
    "def underline(my_str):\n",
    "    \"\"\"\n",
    "    Just a cute function to underline in a print \n",
    "    statement b/c I got tired of formatting by hand.\n",
    "    \"\"\"\n",
    "    str_len = len(my_str.strip(\"\\n\\t\"))\n",
    "    return my_str + \"\\n\" + (\"=\" * str_len)\n",
    "    \n",
    "print(underline(\"who output\"))\n",
    "%who"
   ]
  },
  {
   "cell_type": "code",
   "execution_count": 30,
   "id": "6b1fb26c",
   "metadata": {},
   "outputs": [
    {
     "name": "stdout",
     "output_type": "stream",
     "text": [
      "\n",
      "whos output\n",
      "===========\n",
      "Variable           Type        Data/Info\n",
      "----------------------------------------\n",
      "a_color            str         dark red\n",
      "item               str         whos_list\n",
      "living_variables   list        n=10\n",
      "my_colors          list        n=2\n",
      "my_list            list        n=10\n",
      "my_list_copy       list        n=10\n",
      "new_list           list        n=10\n",
      "np                 module      <module 'numpy' from '/Us<...>kages/numpy/__init__.py'>\n",
      "os                 module      <module 'os' from '/Libra<...>3.9/lib/python3.9/os.py'>\n",
      "peth               str         /Users/tgfisher_random_string\n",
      "plt                module      <module 'matplotlib.pyplo<...>es/matplotlib/pyplot.py'>\n",
      "red                str         red\n",
      "sys                module      <module 'sys' (built-in)>\n",
      "underline          function    <function underline at 0x7ff00f16c820>\n",
      "whos_list          list        n=15\n"
     ]
    }
   ],
   "source": [
    "print(underline(\"\\nwhos output\"))\n",
    "%whos"
   ]
  },
  {
   "cell_type": "code",
   "execution_count": 31,
   "id": "700f49ef",
   "metadata": {},
   "outputs": [
    {
     "name": "stdout",
     "output_type": "stream",
     "text": [
      "\n",
      "who_ls output (items listed as a column)\n",
      "========================================\n",
      "a_color\n",
      "item\n",
      "living_variables\n",
      "my_colors\n",
      "my_list\n",
      "my_list_copy\n",
      "new_list\n",
      "np\n",
      "os\n",
      "peth\n",
      "plt\n",
      "red\n",
      "sys\n",
      "underline\n",
      "whos_list\n"
     ]
    }
   ],
   "source": [
    "print(underline(\"\\nwho_ls output (items listed as a column)\"))\n",
    "whos_list = %who_ls\n",
    "for item in whos_list:\n",
    "    print(item)"
   ]
  },
  {
   "cell_type": "code",
   "execution_count": null,
   "id": "4a4150ac",
   "metadata": {},
   "outputs": [],
   "source": [
    "help(locals)"
   ]
  },
  {
   "cell_type": "code",
   "execution_count": null,
   "id": "7414137b",
   "metadata": {},
   "outputs": [],
   "source": [
    "def custom_functions_can_have_help(an_input, keyword_argument=\"Your input was: \"):\n",
    "    \"\"\"\n",
    "    This is a help string... for a function about how to add `help strings`\n",
    "    to custom functions.\n",
    "    \n",
    "    -- params --\n",
    "    input_var: int\n",
    "        This input should be an integer for some reason that doesn't matter\n",
    "        because this function doesn't really do anything.\n",
    "    ** default params **\n",
    "    keyword_argument: str\n",
    "        This input has a default value, so the user doesnt \"need\" to set it.\n",
    "    >> return <<\n",
    "        A string with these function inputs combined.\n",
    "    \"\"\"\n",
    "    assert isinstance(an_input, int), \"Your input must be an integer.\"\n",
    "    \n",
    "    return keyword_argument + str(an_input)"
   ]
  },
  {
   "cell_type": "code",
   "execution_count": null,
   "id": "36d84988",
   "metadata": {},
   "outputs": [],
   "source": []
  },
  {
   "cell_type": "code",
   "execution_count": null,
   "id": "d67cf930",
   "metadata": {},
   "outputs": [],
   "source": [
    "help(custom_functions_can_have_help)"
   ]
  },
  {
   "cell_type": "markdown",
   "id": "3fe9f1d6",
   "metadata": {},
   "source": [
    "## HW: Custom Workspace Listing\n",
    "--- \n",
    "\n",
    "Write a few functions to \n",
    "1. list functions\n",
    "1. list modules\n",
    "1. list variables.\n",
    "1. a function that wraps the first three and returns an output you personally find handy.\n",
    "\n",
    "#### A few tools you will find useful\n",
    "\n",
    "`isinstance` takes a variable or instance of an object and tells you if it\n",
    "is of a certain type. You will use it like this: \n",
    "```python\n",
    "isinstance(<variable_or_instance>, <class>)\n",
    "```\n",
    "\n",
    "`locals` returns a dictionary, `dict` type, of the local variables. \n",
    "\n",
    "Be careful, when you use `locals`, `locals()` output will change if you assign `locals()` \n",
    "to a new variable (because you will have just have added a new variable to the workspace). \n",
    "Luckily, the `.copy()` method exists for `dict` objects just like it does for `list` objects \n",
    "(from [variables and shared memory](#Variables-and-Shared-Memory)).\n",
    "\n",
    "_Hint: you can import `ModuleType` and `FunctionType` from the `types` module._"
   ]
  },
  {
   "cell_type": "code",
   "execution_count": null,
   "id": "6d804f0b",
   "metadata": {},
   "outputs": [],
   "source": [
    "def workspace_modules_list():\n",
    "    pass\n",
    "def workspace_functions_list():\n",
    "    pass\n",
    "def workspace_variables_list():\n",
    "    pass\n",
    "def my_who_list():\n",
    "    pass\n",
    "from types import ModuleType, FunctionType"
   ]
  },
  {
   "cell_type": "markdown",
   "id": "19e4af1d",
   "metadata": {},
   "source": [
    "## Variable Scope and Functions\n",
    "\n",
    "Often while coding in an IDE or jupyter there are many variables floating around. In the previous \n",
    "section on [workspace](#Workspace) we played with tools that expose functions, \n",
    "variables, methods &c. In this section we will highlight the potential for \"bugs\" \n",
    "in any python situation where there are variables floating \n",
    "around before a function definition.\n",
    "\n",
    "**Situation A: Function Uses a Variable From Outside the `def`**\n",
    "\n",
    "Pythonic \"assumption\": This is a global variable.\n",
    "\n",
    "```python\n",
    "variable_from_outside = \"I will raise the siege of Orelans.\"\n",
    "def situation_a():\n",
    "    return variable_from_outside\n",
    "``` \n",
    "\n",
    "**Situation B: Function Assigns to a Variable From Outside the `def`**\n",
    "\n",
    "Pythonic \"assumption\": Assigning a value to a variable that already exits? \n",
    "This is a new variable in the \"local\" scope.\n",
    "\n",
    "```python\n",
    "def situation_b():\n",
    "    variable_from_outside = \"The mountains are calling and I must go.\"\n",
    "    return variable_from_outside\n",
    "```\n",
    "\n",
    "**Situation C: Breaking the \"local\" assumption**\n",
    "```python\n",
    "outKast = \"I'm sorry Ms. Jackson\"\n",
    "def situation_c():\n",
    "    global outKast\n",
    "    outKast = \"I am for real.\"\n",
    "    return outKast\n",
    "```\n",
    "    "
   ]
  },
  {
   "cell_type": "markdown",
   "id": "67f9ece8",
   "metadata": {},
   "source": [
    "### Situation A: "
   ]
  },
  {
   "cell_type": "code",
   "execution_count": null,
   "id": "7cf23294",
   "metadata": {},
   "outputs": [],
   "source": [
    "variable_from_outside = \"I will raise the siege of Oreleans.\"\n",
    "def situation_a():\n",
    "    return variable_from_outside"
   ]
  },
  {
   "cell_type": "code",
   "execution_count": null,
   "id": "526c6962",
   "metadata": {},
   "outputs": [],
   "source": [
    "print(variable_from_outside)\n",
    "print(situation_a())\n",
    "print(variable_from_outside)"
   ]
  },
  {
   "cell_type": "markdown",
   "id": "688c6ad7",
   "metadata": {},
   "source": [
    "### Situation B:"
   ]
  },
  {
   "cell_type": "code",
   "execution_count": null,
   "id": "71f405fb",
   "metadata": {},
   "outputs": [],
   "source": [
    "def situation_b():\n",
    "    variable_from_outside = \"The mountains are calling and I must go.\"\n",
    "    return variable_from_outside"
   ]
  },
  {
   "cell_type": "code",
   "execution_count": null,
   "id": "03b01638",
   "metadata": {},
   "outputs": [],
   "source": [
    "print(variable_from_outside)\n",
    "print(situation_b())\n",
    "print(variable_from_outside) # the global variable `variable_from_outside` isn't changed"
   ]
  },
  {
   "cell_type": "markdown",
   "id": "d2698624",
   "metadata": {},
   "source": [
    "### Situation C:"
   ]
  },
  {
   "cell_type": "code",
   "execution_count": null,
   "id": "cfcca574",
   "metadata": {},
   "outputs": [],
   "source": [
    "outKast = \"I'm Sorry Ms. Jackson.\"\n",
    "def situation_c():\n",
    "    global outKast\n",
    "    outKast = \"I am for real.\"\n",
    "    return outKast"
   ]
  },
  {
   "cell_type": "code",
   "execution_count": null,
   "id": "af0b3493",
   "metadata": {},
   "outputs": [],
   "source": [
    "print(outKast)\n",
    "print(situation_c())\n",
    "print(outKast)"
   ]
  },
  {
   "cell_type": "markdown",
   "id": "b8a0b3d2",
   "metadata": {},
   "source": [
    "### HW: Fix a variable scope related bug\n",
    "---\n",
    "The function `fix me` isn't working. It is taking valid paths and saying they don't exist.\n",
    "\n",
    "**goal** -- Debug the `fix_me` function to \"free\" the keyword argument."
   ]
  },
  {
   "cell_type": "code",
   "execution_count": 47,
   "id": "fb5a4020",
   "metadata": {},
   "outputs": [],
   "source": [
    "# nothing in this block needs to be changed\n",
    "valid_path = os.path.expanduser(\"~\")"
   ]
  },
  {
   "cell_type": "code",
   "execution_count": 50,
   "id": "22ffc959",
   "metadata": {},
   "outputs": [],
   "source": [
    "# something in this block is broken\n",
    "def path_is_valid(path):\n",
    "    path = path + a_thing\n",
    "    return os.path.isdir(path)\n",
    "\n",
    "def fix_me(path, keyword_argument = \"I want to be free\"):\n",
    "        if path_is_valid(path):\n",
    "            print(keyword_argument, \"(the path does exist, btw.)\")\n",
    "        else:\n",
    "            print(f\"{path} does not exist\")"
   ]
  },
  {
   "cell_type": "code",
   "execution_count": 51,
   "id": "296ebdc8",
   "metadata": {},
   "outputs": [
    {
     "name": "stdout",
     "output_type": "stream",
     "text": [
      "/Users/tgfisher does not exist\n"
     ]
    }
   ],
   "source": [
    "# this is just an evaluation block, change the function definition above\n",
    "fix_me(valid_path)"
   ]
  },
  {
   "cell_type": "code",
   "execution_count": null,
   "id": "55b6922f",
   "metadata": {
    "lines_to_next_cell": 2
   },
   "outputs": [],
   "source": []
  }
 ],
 "metadata": {
  "jupytext": {
   "formats": "ipynb,py,md"
  },
  "kernelspec": {
   "display_name": "Python (we_sick)",
   "language": "python",
   "name": "we_sick"
  },
  "language_info": {
   "codemirror_mode": {
    "name": "ipython",
    "version": 3
   },
   "file_extension": ".py",
   "mimetype": "text/x-python",
   "name": "python",
   "nbconvert_exporter": "python",
   "pygments_lexer": "ipython3",
   "version": "3.9.5"
  }
 },
 "nbformat": 4,
 "nbformat_minor": 5
}
